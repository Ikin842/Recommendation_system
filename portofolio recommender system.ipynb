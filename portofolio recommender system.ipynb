{
 "cells": [
  {
   "cell_type": "markdown",
   "id": "62429261",
   "metadata": {
    "slideshow": {
     "slide_type": "slide"
    }
   },
   "source": [
    "## Recommendation system\n",
    "\n"
   ]
  },
  {
   "cell_type": "code",
   "execution_count": 1,
   "id": "820faa89",
   "metadata": {
    "slideshow": {
     "slide_type": "slide"
    }
   },
   "outputs": [],
   "source": [
    "import pandas as pd"
   ]
  },
  {
   "cell_type": "code",
   "execution_count": 2,
   "id": "cd54a413",
   "metadata": {
    "scrolled": true,
    "slideshow": {
     "slide_type": "slide"
    }
   },
   "outputs": [
    {
     "data": {
      "text/html": [
       "<div>\n",
       "<style scoped>\n",
       "    .dataframe tbody tr th:only-of-type {\n",
       "        vertical-align: middle;\n",
       "    }\n",
       "\n",
       "    .dataframe tbody tr th {\n",
       "        vertical-align: top;\n",
       "    }\n",
       "\n",
       "    .dataframe thead th {\n",
       "        text-align: right;\n",
       "    }\n",
       "</style>\n",
       "<table border=\"1\" class=\"dataframe\">\n",
       "  <thead>\n",
       "    <tr style=\"text-align: right;\">\n",
       "      <th></th>\n",
       "      <th>title</th>\n",
       "      <th>genres</th>\n",
       "      <th>runtime</th>\n",
       "      <th>vote_average</th>\n",
       "      <th>vote_count</th>\n",
       "      <th>release_year</th>\n",
       "      <th>Action</th>\n",
       "      <th>Adventure</th>\n",
       "      <th>Animation</th>\n",
       "      <th>Comedy</th>\n",
       "      <th>...</th>\n",
       "      <th>History</th>\n",
       "      <th>Horror</th>\n",
       "      <th>Music</th>\n",
       "      <th>Mystery</th>\n",
       "      <th>Romance</th>\n",
       "      <th>Science Fiction</th>\n",
       "      <th>TV Movie</th>\n",
       "      <th>Thriller</th>\n",
       "      <th>War</th>\n",
       "      <th>Western</th>\n",
       "    </tr>\n",
       "  </thead>\n",
       "  <tbody>\n",
       "    <tr>\n",
       "      <th>0</th>\n",
       "      <td>Toy Story</td>\n",
       "      <td>Animation; Comedy; Family</td>\n",
       "      <td>81.0</td>\n",
       "      <td>7.7</td>\n",
       "      <td>5415.0</td>\n",
       "      <td>1995</td>\n",
       "      <td>0</td>\n",
       "      <td>0</td>\n",
       "      <td>1</td>\n",
       "      <td>1</td>\n",
       "      <td>...</td>\n",
       "      <td>0</td>\n",
       "      <td>0</td>\n",
       "      <td>0</td>\n",
       "      <td>0</td>\n",
       "      <td>0</td>\n",
       "      <td>0</td>\n",
       "      <td>0</td>\n",
       "      <td>0</td>\n",
       "      <td>0</td>\n",
       "      <td>0</td>\n",
       "    </tr>\n",
       "    <tr>\n",
       "      <th>1</th>\n",
       "      <td>Jumanji</td>\n",
       "      <td>Adventure; Fantasy; Family</td>\n",
       "      <td>104.0</td>\n",
       "      <td>6.9</td>\n",
       "      <td>2413.0</td>\n",
       "      <td>1995</td>\n",
       "      <td>0</td>\n",
       "      <td>1</td>\n",
       "      <td>0</td>\n",
       "      <td>0</td>\n",
       "      <td>...</td>\n",
       "      <td>0</td>\n",
       "      <td>0</td>\n",
       "      <td>0</td>\n",
       "      <td>0</td>\n",
       "      <td>0</td>\n",
       "      <td>0</td>\n",
       "      <td>0</td>\n",
       "      <td>0</td>\n",
       "      <td>0</td>\n",
       "      <td>0</td>\n",
       "    </tr>\n",
       "    <tr>\n",
       "      <th>2</th>\n",
       "      <td>Grumpier Old Men</td>\n",
       "      <td>Romance; Comedy</td>\n",
       "      <td>101.0</td>\n",
       "      <td>6.5</td>\n",
       "      <td>92.0</td>\n",
       "      <td>1995</td>\n",
       "      <td>0</td>\n",
       "      <td>0</td>\n",
       "      <td>0</td>\n",
       "      <td>1</td>\n",
       "      <td>...</td>\n",
       "      <td>0</td>\n",
       "      <td>0</td>\n",
       "      <td>0</td>\n",
       "      <td>0</td>\n",
       "      <td>1</td>\n",
       "      <td>0</td>\n",
       "      <td>0</td>\n",
       "      <td>0</td>\n",
       "      <td>0</td>\n",
       "      <td>0</td>\n",
       "    </tr>\n",
       "    <tr>\n",
       "      <th>3</th>\n",
       "      <td>Waiting to Exhale</td>\n",
       "      <td>Comedy; Drama; Romance</td>\n",
       "      <td>127.0</td>\n",
       "      <td>6.1</td>\n",
       "      <td>34.0</td>\n",
       "      <td>1995</td>\n",
       "      <td>0</td>\n",
       "      <td>0</td>\n",
       "      <td>0</td>\n",
       "      <td>1</td>\n",
       "      <td>...</td>\n",
       "      <td>0</td>\n",
       "      <td>0</td>\n",
       "      <td>0</td>\n",
       "      <td>0</td>\n",
       "      <td>1</td>\n",
       "      <td>0</td>\n",
       "      <td>0</td>\n",
       "      <td>0</td>\n",
       "      <td>0</td>\n",
       "      <td>0</td>\n",
       "    </tr>\n",
       "    <tr>\n",
       "      <th>4</th>\n",
       "      <td>Father of the Bride Part II</td>\n",
       "      <td>Comedy</td>\n",
       "      <td>106.0</td>\n",
       "      <td>5.7</td>\n",
       "      <td>173.0</td>\n",
       "      <td>1995</td>\n",
       "      <td>0</td>\n",
       "      <td>0</td>\n",
       "      <td>0</td>\n",
       "      <td>1</td>\n",
       "      <td>...</td>\n",
       "      <td>0</td>\n",
       "      <td>0</td>\n",
       "      <td>0</td>\n",
       "      <td>0</td>\n",
       "      <td>0</td>\n",
       "      <td>0</td>\n",
       "      <td>0</td>\n",
       "      <td>0</td>\n",
       "      <td>0</td>\n",
       "      <td>0</td>\n",
       "    </tr>\n",
       "  </tbody>\n",
       "</table>\n",
       "<p>5 rows × 26 columns</p>\n",
       "</div>"
      ],
      "text/plain": [
       "                         title                      genres  runtime  \\\n",
       "0                    Toy Story   Animation; Comedy; Family     81.0   \n",
       "1                      Jumanji  Adventure; Fantasy; Family    104.0   \n",
       "2             Grumpier Old Men             Romance; Comedy    101.0   \n",
       "3            Waiting to Exhale      Comedy; Drama; Romance    127.0   \n",
       "4  Father of the Bride Part II                      Comedy    106.0   \n",
       "\n",
       "   vote_average  vote_count  release_year  Action  Adventure  Animation  \\\n",
       "0           7.7      5415.0          1995       0          0          1   \n",
       "1           6.9      2413.0          1995       0          1          0   \n",
       "2           6.5        92.0          1995       0          0          0   \n",
       "3           6.1        34.0          1995       0          0          0   \n",
       "4           5.7       173.0          1995       0          0          0   \n",
       "\n",
       "   Comedy  ...  History  Horror  Music  Mystery  Romance  Science Fiction  \\\n",
       "0       1  ...        0       0      0        0        0                0   \n",
       "1       0  ...        0       0      0        0        0                0   \n",
       "2       1  ...        0       0      0        0        1                0   \n",
       "3       1  ...        0       0      0        0        1                0   \n",
       "4       1  ...        0       0      0        0        0                0   \n",
       "\n",
       "   TV Movie  Thriller  War  Western  \n",
       "0         0         0    0        0  \n",
       "1         0         0    0        0  \n",
       "2         0         0    0        0  \n",
       "3         0         0    0        0  \n",
       "4         0         0    0        0  \n",
       "\n",
       "[5 rows x 26 columns]"
      ]
     },
     "execution_count": 2,
     "metadata": {},
     "output_type": "execute_result"
    }
   ],
   "source": [
    "df = pd.read_csv(\"data/demographic.csv\")\n",
    "df.head()\n"
   ]
  },
  {
   "cell_type": "code",
   "execution_count": 18,
   "id": "4add2cd1",
   "metadata": {
    "slideshow": {
     "slide_type": "slide"
    }
   },
   "outputs": [],
   "source": [
    "class RecomenderSystemDF:\n",
    "    def __init__(self, data):\n",
    "        self.df = pd.read_csv(data)\n",
    "        \n",
    "    def recommendDF(self, genre=None, duration=None, year=None, topk=10):\n",
    "        df = self.df.copy()\n",
    "        df = self.demographic_filter(df, genre=genre, duration=duration, year=year)\n",
    "        df = self.compute_imdb_score(df)\n",
    "        result = df.loc[:, \"title\":\"release_year\"]\n",
    "        result = result.sort_values(\"vote_average\", ascending=False)\n",
    "        result = result.head(topk)\n",
    "        return result\n",
    "    \n",
    "    @staticmethod    \n",
    "    def demographic_filter(df, genre=None, duration=None, year=None):\n",
    "        df = df.copy()\n",
    "        \n",
    "        if genre is not None:\n",
    "            df = df[df[genre].all(axis=1)]\n",
    "        if duration is not None:\n",
    "            df = df[df.runtime.between(duration[0], duration[1])]\n",
    "        if year is not None:\n",
    "            df = df[df.release_year.between(year[0], year[1])]\n",
    "        return df\n",
    "    \n",
    "    @staticmethod\n",
    "    def compute_imdb_score(df, q=0.8):\n",
    "        df = df.copy()\n",
    "        \n",
    "        m = df.vote_count.quantile(q)\n",
    "        C = (df.vote_average * df.vote_count).sum() / df.vote_count.sum()\n",
    "\n",
    "        df = df[df.vote_count >= m] \n",
    "        df[\"score\"] = df.apply(lambda x: (x.vote_average * x.vote_count + C*m) / (x.vote_count + m), axis=1) \n",
    "        return df\n",
    "        \n",
    "  "
   ]
  },
  {
   "cell_type": "code",
   "execution_count": null,
   "id": "dd9cc821",
   "metadata": {
    "slideshow": {
     "slide_type": "slide"
    }
   },
   "outputs": [],
   "source": []
  },
  {
   "cell_type": "code",
   "execution_count": 19,
   "id": "c2f86913",
   "metadata": {
    "scrolled": true,
    "slideshow": {
     "slide_type": "slide"
    }
   },
   "outputs": [
    {
     "data": {
      "image/png": "[encoded data removed]",
      "text/plain": [
       "<IPython.core.display.Image object>"
      ]
     },
     "execution_count": 19,
     "metadata": {},
     "output_type": "execute_result"
    }
   ],
   "source": [
    "from IPython.display import Image\n",
    "\n",
    "Image(\"data/imdb.png\")"
   ]
  },
  {
   "cell_type": "code",
   "execution_count": 20,
   "id": "ff09a9f9",
   "metadata": {
    "slideshow": {
     "slide_type": "slide"
    }
   },
   "outputs": [],
   "source": [
    "recsys = RecomenderSystemDF(data=\"data/demographic.csv\")"
   ]
  },
  {
   "cell_type": "code",
   "execution_count": 21,
   "id": "78f98d68",
   "metadata": {
    "slideshow": {
     "slide_type": "slide"
    }
   },
   "outputs": [
    {
     "data": {
      "text/html": [
       "<div>\n",
       "<style scoped>\n",
       "    .dataframe tbody tr th:only-of-type {\n",
       "        vertical-align: middle;\n",
       "    }\n",
       "\n",
       "    .dataframe tbody tr th {\n",
       "        vertical-align: top;\n",
       "    }\n",
       "\n",
       "    .dataframe thead th {\n",
       "        text-align: right;\n",
       "    }\n",
       "</style>\n",
       "<table border=\"1\" class=\"dataframe\">\n",
       "  <thead>\n",
       "    <tr style=\"text-align: right;\">\n",
       "      <th></th>\n",
       "      <th>title</th>\n",
       "      <th>genres</th>\n",
       "      <th>runtime</th>\n",
       "      <th>vote_average</th>\n",
       "      <th>vote_count</th>\n",
       "      <th>release_year</th>\n",
       "    </tr>\n",
       "  </thead>\n",
       "  <tbody>\n",
       "    <tr>\n",
       "      <th>40018</th>\n",
       "      <td>Your Name.</td>\n",
       "      <td>Romance; Animation; Drama</td>\n",
       "      <td>106.0</td>\n",
       "      <td>8.5</td>\n",
       "      <td>1030.0</td>\n",
       "      <td>2016</td>\n",
       "    </tr>\n",
       "    <tr>\n",
       "      <th>30208</th>\n",
       "      <td>Inside Out</td>\n",
       "      <td>Drama; Comedy; Animation; Family</td>\n",
       "      <td>94.0</td>\n",
       "      <td>7.9</td>\n",
       "      <td>6737.0</td>\n",
       "      <td>2015</td>\n",
       "    </tr>\n",
       "    <tr>\n",
       "      <th>39787</th>\n",
       "      <td>Kubo and the Two Strings</td>\n",
       "      <td>Animation; Adventure; Family</td>\n",
       "      <td>102.0</td>\n",
       "      <td>7.7</td>\n",
       "      <td>982.0</td>\n",
       "      <td>2016</td>\n",
       "    </tr>\n",
       "    <tr>\n",
       "      <th>36082</th>\n",
       "      <td>Zootopia</td>\n",
       "      <td>Animation; Adventure; Family; Comedy</td>\n",
       "      <td>108.0</td>\n",
       "      <td>7.7</td>\n",
       "      <td>4961.0</td>\n",
       "      <td>2016</td>\n",
       "    </tr>\n",
       "    <tr>\n",
       "      <th>33181</th>\n",
       "      <td>The Little Prince</td>\n",
       "      <td>Adventure; Animation; Fantasy</td>\n",
       "      <td>92.0</td>\n",
       "      <td>7.6</td>\n",
       "      <td>771.0</td>\n",
       "      <td>2015</td>\n",
       "    </tr>\n",
       "    <tr>\n",
       "      <th>41203</th>\n",
       "      <td>Moana</td>\n",
       "      <td>Adventure; Animation; Family</td>\n",
       "      <td>107.0</td>\n",
       "      <td>7.3</td>\n",
       "      <td>3471.0</td>\n",
       "      <td>2016</td>\n",
       "    </tr>\n",
       "    <tr>\n",
       "      <th>41714</th>\n",
       "      <td>The Lego Batman Movie</td>\n",
       "      <td>Action; Animation; Comedy; Family; Fantasy</td>\n",
       "      <td>104.0</td>\n",
       "      <td>7.2</td>\n",
       "      <td>1473.0</td>\n",
       "      <td>2017</td>\n",
       "    </tr>\n",
       "    <tr>\n",
       "      <th>29061</th>\n",
       "      <td>Shaun the Sheep Movie</td>\n",
       "      <td>Family; Animation; Comedy; Adventure</td>\n",
       "      <td>85.0</td>\n",
       "      <td>6.9</td>\n",
       "      <td>456.0</td>\n",
       "      <td>2015</td>\n",
       "    </tr>\n",
       "    <tr>\n",
       "      <th>31900</th>\n",
       "      <td>Anomalisa</td>\n",
       "      <td>Animation; Comedy; Drama; Romance</td>\n",
       "      <td>90.0</td>\n",
       "      <td>6.9</td>\n",
       "      <td>472.0</td>\n",
       "      <td>2015</td>\n",
       "    </tr>\n",
       "    <tr>\n",
       "      <th>28702</th>\n",
       "      <td>Home</td>\n",
       "      <td>Fantasy; Comedy; Animation; Science Fiction; F...</td>\n",
       "      <td>94.0</td>\n",
       "      <td>6.8</td>\n",
       "      <td>1539.0</td>\n",
       "      <td>2015</td>\n",
       "    </tr>\n",
       "  </tbody>\n",
       "</table>\n",
       "</div>"
      ],
      "text/plain": [
       "                          title  \\\n",
       "40018                Your Name.   \n",
       "30208                Inside Out   \n",
       "39787  Kubo and the Two Strings   \n",
       "36082                  Zootopia   \n",
       "33181         The Little Prince   \n",
       "41203                     Moana   \n",
       "41714     The Lego Batman Movie   \n",
       "29061     Shaun the Sheep Movie   \n",
       "31900                 Anomalisa   \n",
       "28702                      Home   \n",
       "\n",
       "                                                  genres  runtime  \\\n",
       "40018                          Romance; Animation; Drama    106.0   \n",
       "30208                   Drama; Comedy; Animation; Family     94.0   \n",
       "39787                       Animation; Adventure; Family    102.0   \n",
       "36082               Animation; Adventure; Family; Comedy    108.0   \n",
       "33181                      Adventure; Animation; Fantasy     92.0   \n",
       "41203                       Adventure; Animation; Family    107.0   \n",
       "41714         Action; Animation; Comedy; Family; Fantasy    104.0   \n",
       "29061               Family; Animation; Comedy; Adventure     85.0   \n",
       "31900                  Animation; Comedy; Drama; Romance     90.0   \n",
       "28702  Fantasy; Comedy; Animation; Science Fiction; F...     94.0   \n",
       "\n",
       "       vote_average  vote_count  release_year  \n",
       "40018           8.5      1030.0          2016  \n",
       "30208           7.9      6737.0          2015  \n",
       "39787           7.7       982.0          2016  \n",
       "36082           7.7      4961.0          2016  \n",
       "33181           7.6       771.0          2015  \n",
       "41203           7.3      3471.0          2016  \n",
       "41714           7.2      1473.0          2017  \n",
       "29061           6.9       456.0          2015  \n",
       "31900           6.9       472.0          2015  \n",
       "28702           6.8      1539.0          2015  "
      ]
     },
     "execution_count": 21,
     "metadata": {},
     "output_type": "execute_result"
    }
   ],
   "source": [
    "recsys.recommendDF(genre=[\"Animation\"], duration=(60, 150), year=(2015, 2020), topk=10)"
   ]
  },
  {
   "cell_type": "markdown",
   "id": "4c6d6e88",
   "metadata": {
    "slideshow": {
     "slide_type": "slide"
    }
   },
   "source": [
    "# Recommender with content based filtering"
   ]
  },
  {
   "cell_type": "code",
   "execution_count": 13,
   "id": "483bb755",
   "metadata": {
    "slideshow": {
     "slide_type": "slide"
    }
   },
   "outputs": [],
   "source": [
    "from sklearn.feature_extraction.text import CountVectorizer\n",
    "from nltk.tokenize import word_tokenize\n",
    "from sklearn.metrics.pairwise import cosine_distances"
   ]
  },
  {
   "cell_type": "code",
   "execution_count": 14,
   "id": "75db79bf",
   "metadata": {
    "slideshow": {
     "slide_type": "slide"
    }
   },
   "outputs": [
    {
     "data": {
      "text/html": [
       "<div>\n",
       "<style scoped>\n",
       "    .dataframe tbody tr th:only-of-type {\n",
       "        vertical-align: middle;\n",
       "    }\n",
       "\n",
       "    .dataframe tbody tr th {\n",
       "        vertical-align: top;\n",
       "    }\n",
       "\n",
       "    .dataframe thead th {\n",
       "        text-align: right;\n",
       "    }\n",
       "</style>\n",
       "<table border=\"1\" class=\"dataframe\">\n",
       "  <thead>\n",
       "    <tr style=\"text-align: right;\">\n",
       "      <th></th>\n",
       "      <th>title</th>\n",
       "      <th>overview</th>\n",
       "    </tr>\n",
       "  </thead>\n",
       "  <tbody>\n",
       "    <tr>\n",
       "      <th>0</th>\n",
       "      <td>Toy Story</td>\n",
       "      <td>Led by Woody, Andy's toys live happily in his ...</td>\n",
       "    </tr>\n",
       "    <tr>\n",
       "      <th>1</th>\n",
       "      <td>Jumanji</td>\n",
       "      <td>When siblings Judy and Peter discover an encha...</td>\n",
       "    </tr>\n",
       "    <tr>\n",
       "      <th>2</th>\n",
       "      <td>Grumpier Old Men</td>\n",
       "      <td>A family wedding reignites the ancient feud be...</td>\n",
       "    </tr>\n",
       "    <tr>\n",
       "      <th>3</th>\n",
       "      <td>Waiting to Exhale</td>\n",
       "      <td>Cheated on, mistreated and stepped on, the wom...</td>\n",
       "    </tr>\n",
       "    <tr>\n",
       "      <th>4</th>\n",
       "      <td>Father of the Bride Part II</td>\n",
       "      <td>Just when George Banks has recovered from his ...</td>\n",
       "    </tr>\n",
       "  </tbody>\n",
       "</table>\n",
       "</div>"
      ],
      "text/plain": [
       "                         title  \\\n",
       "0                    Toy Story   \n",
       "1                      Jumanji   \n",
       "2             Grumpier Old Men   \n",
       "3            Waiting to Exhale   \n",
       "4  Father of the Bride Part II   \n",
       "\n",
       "                                            overview  \n",
       "0  Led by Woody, Andy's toys live happily in his ...  \n",
       "1  When siblings Judy and Peter discover an encha...  \n",
       "2  A family wedding reignites the ancient feud be...  \n",
       "3  Cheated on, mistreated and stepped on, the wom...  \n",
       "4  Just when George Banks has recovered from his ...  "
      ]
     },
     "execution_count": 14,
     "metadata": {},
     "output_type": "execute_result"
    }
   ],
   "source": [
    "df = pd.read_csv(\"data/content_by_synopsis.csv\")\n",
    "df.head()"
   ]
  },
  {
   "cell_type": "code",
   "execution_count": 15,
   "id": "8fa96701",
   "metadata": {
    "slideshow": {
     "slide_type": "slide"
    }
   },
   "outputs": [],
   "source": []
  },
  {
   "cell_type": "code",
   "execution_count": 16,
   "id": "2bc0b783",
   "metadata": {
    "slideshow": {
     "slide_type": "slide"
    }
   },
   "outputs": [],
   "source": [
    "class RecommenderSystemCBF:\n",
    "    def __init__(self, data, content_col):\n",
    "        self.df = pd.read_csv(data)\n",
    "        self.content_col = content_col\n",
    "        self.encoder = None\n",
    "        self.bank = None\n",
    "        \n",
    "    def fit_cbf(self):\n",
    "        self.encoder = CountVectorizer(stop_words=\"english\", tokenizer=word_tokenize)\n",
    "        self.bank = self.encoder.fit_transform(self.df[self.content_col])\n",
    "        \n",
    "    def recommend_cbf(self, idx, topk=10): \n",
    "        content = df.loc[idx, self.content_col]\n",
    "        code = self.encoder.transform([content])\n",
    "        dist = cosine_distances(code, self.bank)\n",
    "        rec_idx = dist.argsort()[0, 1:(topk+1)]\n",
    "        return self.df.loc[rec_idx]"
   ]
  },
  {
   "cell_type": "code",
   "execution_count": 17,
   "id": "61e710c2",
   "metadata": {
    "slideshow": {
     "slide_type": "slide"
    }
   },
   "outputs": [],
   "source": [
    "recsys = RecommenderSystemCBF(\"data/content_by_synopsis.csv\", content_col=\"overview\")\n",
    "recsys.fit_cbf()"
   ]
  },
  {
   "cell_type": "code",
   "execution_count": 18,
   "id": "79bf75b3",
   "metadata": {
    "slideshow": {
     "slide_type": "slide"
    }
   },
   "outputs": [
    {
     "data": {
      "text/html": [
       "<div>\n",
       "<style scoped>\n",
       "    .dataframe tbody tr th:only-of-type {\n",
       "        vertical-align: middle;\n",
       "    }\n",
       "\n",
       "    .dataframe tbody tr th {\n",
       "        vertical-align: top;\n",
       "    }\n",
       "\n",
       "    .dataframe thead th {\n",
       "        text-align: right;\n",
       "    }\n",
       "</style>\n",
       "<table border=\"1\" class=\"dataframe\">\n",
       "  <thead>\n",
       "    <tr style=\"text-align: right;\">\n",
       "      <th></th>\n",
       "      <th>title</th>\n",
       "      <th>overview</th>\n",
       "    </tr>\n",
       "  </thead>\n",
       "  <tbody>\n",
       "    <tr>\n",
       "      <th>37288</th>\n",
       "      <td>The Cheetah Girls 2</td>\n",
       "      <td>Best friends Galleria, Chanel, Dorinda, and Aq...</td>\n",
       "    </tr>\n",
       "    <tr>\n",
       "      <th>12257</th>\n",
       "      <td>Young People Fucking</td>\n",
       "      <td>On a Tuesday night, five couples have separate...</td>\n",
       "    </tr>\n",
       "    <tr>\n",
       "      <th>14784</th>\n",
       "      <td>Fat People</td>\n",
       "      <td>\"GORDOS\" is a comedy about life's excesses and...</td>\n",
       "    </tr>\n",
       "    <tr>\n",
       "      <th>32520</th>\n",
       "      <td>David Bowie: Best Of Bowie</td>\n",
       "      <td>Disc 1: Oh. You Pretty Things, Queen Bitch), F...</td>\n",
       "    </tr>\n",
       "    <tr>\n",
       "      <th>24144</th>\n",
       "      <td>A Summer in St. Tropez</td>\n",
       "      <td>In an isolated country house close to the shor...</td>\n",
       "    </tr>\n",
       "    <tr>\n",
       "      <th>4849</th>\n",
       "      <td>Little Dieter Needs to Fly</td>\n",
       "      <td>In 1966, Dieter Dengler was shot down over Lao...</td>\n",
       "    </tr>\n",
       "    <tr>\n",
       "      <th>8091</th>\n",
       "      <td>Secret Honor</td>\n",
       "      <td>In this speculative one-man drama, we see form...</td>\n",
       "    </tr>\n",
       "    <tr>\n",
       "      <th>4876</th>\n",
       "      <td>Going Places</td>\n",
       "      <td>Two whimsical, aimless thugs harass and assaul...</td>\n",
       "    </tr>\n",
       "    <tr>\n",
       "      <th>765</th>\n",
       "      <td>My Life and Times With Antonin Artaud</td>\n",
       "      <td>May, 1946, in Paris young poet Jacques Prevel ...</td>\n",
       "    </tr>\n",
       "    <tr>\n",
       "      <th>19253</th>\n",
       "      <td>We the Party</td>\n",
       "      <td>In Los Angeles, five high-school friends deal ...</td>\n",
       "    </tr>\n",
       "  </tbody>\n",
       "</table>\n",
       "</div>"
      ],
      "text/plain": [
       "                                       title  \\\n",
       "37288                    The Cheetah Girls 2   \n",
       "12257                   Young People Fucking   \n",
       "14784                             Fat People   \n",
       "32520             David Bowie: Best Of Bowie   \n",
       "24144                 A Summer in St. Tropez   \n",
       "4849              Little Dieter Needs to Fly   \n",
       "8091                            Secret Honor   \n",
       "4876                            Going Places   \n",
       "765    My Life and Times With Antonin Artaud   \n",
       "19253                           We the Party   \n",
       "\n",
       "                                                overview  \n",
       "37288  Best friends Galleria, Chanel, Dorinda, and Aq...  \n",
       "12257  On a Tuesday night, five couples have separate...  \n",
       "14784  \"GORDOS\" is a comedy about life's excesses and...  \n",
       "32520  Disc 1: Oh. You Pretty Things, Queen Bitch), F...  \n",
       "24144  In an isolated country house close to the shor...  \n",
       "4849   In 1966, Dieter Dengler was shot down over Lao...  \n",
       "8091   In this speculative one-man drama, we see form...  \n",
       "4876   Two whimsical, aimless thugs harass and assaul...  \n",
       "765    May, 1946, in Paris young poet Jacques Prevel ...  \n",
       "19253  In Los Angeles, five high-school friends deal ...  "
      ]
     },
     "execution_count": 18,
     "metadata": {},
     "output_type": "execute_result"
    }
   ],
   "source": [
    "recsys.recommend_cbf(3) "
   ]
  },
  {
   "cell_type": "code",
   "execution_count": 19,
   "id": "fc449acc",
   "metadata": {
    "slideshow": {
     "slide_type": "slide"
    }
   },
   "outputs": [
    {
     "data": {
      "text/html": [
       "<div>\n",
       "<style scoped>\n",
       "    .dataframe tbody tr th:only-of-type {\n",
       "        vertical-align: middle;\n",
       "    }\n",
       "\n",
       "    .dataframe tbody tr th {\n",
       "        vertical-align: top;\n",
       "    }\n",
       "\n",
       "    .dataframe thead th {\n",
       "        text-align: right;\n",
       "    }\n",
       "</style>\n",
       "<table border=\"1\" class=\"dataframe\">\n",
       "  <thead>\n",
       "    <tr style=\"text-align: right;\">\n",
       "      <th></th>\n",
       "      <th>userId</th>\n",
       "      <th>movie</th>\n",
       "      <th>rating</th>\n",
       "    </tr>\n",
       "  </thead>\n",
       "  <tbody>\n",
       "    <tr>\n",
       "      <th>0</th>\n",
       "      <td>1</td>\n",
       "      <td>One Flew Over the Cuckoo's Nest (1975)</td>\n",
       "      <td>5</td>\n",
       "    </tr>\n",
       "    <tr>\n",
       "      <th>1</th>\n",
       "      <td>1</td>\n",
       "      <td>James and the Giant Peach (1996)</td>\n",
       "      <td>3</td>\n",
       "    </tr>\n",
       "    <tr>\n",
       "      <th>2</th>\n",
       "      <td>1</td>\n",
       "      <td>My Fair Lady (1964)</td>\n",
       "      <td>3</td>\n",
       "    </tr>\n",
       "    <tr>\n",
       "      <th>3</th>\n",
       "      <td>1</td>\n",
       "      <td>Erin Brockovich (2000)</td>\n",
       "      <td>4</td>\n",
       "    </tr>\n",
       "    <tr>\n",
       "      <th>4</th>\n",
       "      <td>1</td>\n",
       "      <td>Bug's Life, A (1998)</td>\n",
       "      <td>5</td>\n",
       "    </tr>\n",
       "  </tbody>\n",
       "</table>\n",
       "</div>"
      ],
      "text/plain": [
       "   userId                                   movie  rating\n",
       "0       1  One Flew Over the Cuckoo's Nest (1975)       5\n",
       "1       1        James and the Giant Peach (1996)       3\n",
       "2       1                     My Fair Lady (1964)       3\n",
       "3       1                  Erin Brockovich (2000)       4\n",
       "4       1                    Bug's Life, A (1998)       5"
      ]
     },
     "execution_count": 19,
     "metadata": {},
     "output_type": "execute_result"
    }
   ],
   "source": [
    "df = pd.read_csv(\"data/collaborative_filtering.csv\")\n",
    "df.head()"
   ]
  },
  {
   "cell_type": "code",
   "execution_count": 20,
   "id": "3499065f",
   "metadata": {
    "slideshow": {
     "slide_type": "slide"
    }
   },
   "outputs": [],
   "source": [
    "from surprise import Reader, Dataset, SVD\n",
    "from surprise.model_selection import cross_validate"
   ]
  },
  {
   "cell_type": "code",
   "execution_count": 21,
   "id": "e9e62914",
   "metadata": {
    "slideshow": {
     "slide_type": "slide"
    }
   },
   "outputs": [],
   "source": [
    "class RecommenderSystemCF:\n",
    "    def __init__(self, data):\n",
    "        self.df = pd.read_csv(data)\n",
    "        self.all_movies = self.df.movie.unique()\n",
    "        self.model = None\n",
    "        \n",
    "    def fit_cf(self):\n",
    "        data = Dataset.load_from_df(self.df, Reader())\n",
    "        trainset = data.build_full_trainset()\n",
    "        self.model = SVD()\n",
    "        self.model.fit(trainset)\n",
    "        \n",
    "    def recommend_cf(self, user_id, topk=10):\n",
    "        watched = self.df[self.df.userId == user_id].movie\n",
    "        not_watched = [movie for movie in self.all_movies if movie not in watched]\n",
    "        score = [self.model.predict(user_id, movie).est for movie in not_watched]\n",
    "        \n",
    "        result = pd.DataFrame({\"movie\": not_watched, \"pred_score\":score})\n",
    "        result.sort_values(\"pred_score\", ascending=False, inplace=True)\n",
    "        return result.head(topk)"
   ]
  },
  {
   "cell_type": "code",
   "execution_count": 22,
   "id": "4a30ce93",
   "metadata": {
    "slideshow": {
     "slide_type": "slide"
    }
   },
   "outputs": [],
   "source": [
    "recsys = RecommenderSystemCF(\"data/collaborative_filtering.csv\")\n",
    "recsys.fit_cf()"
   ]
  },
  {
   "cell_type": "code",
   "execution_count": 23,
   "id": "a320eefd",
   "metadata": {
    "slideshow": {
     "slide_type": "slide"
    }
   },
   "outputs": [
    {
     "data": {
      "text/html": [
       "<div>\n",
       "<style scoped>\n",
       "    .dataframe tbody tr th:only-of-type {\n",
       "        vertical-align: middle;\n",
       "    }\n",
       "\n",
       "    .dataframe tbody tr th {\n",
       "        vertical-align: top;\n",
       "    }\n",
       "\n",
       "    .dataframe thead th {\n",
       "        text-align: right;\n",
       "    }\n",
       "</style>\n",
       "<table border=\"1\" class=\"dataframe\">\n",
       "  <thead>\n",
       "    <tr style=\"text-align: right;\">\n",
       "      <th></th>\n",
       "      <th>movie</th>\n",
       "      <th>pred_score</th>\n",
       "    </tr>\n",
       "  </thead>\n",
       "  <tbody>\n",
       "    <tr>\n",
       "      <th>167</th>\n",
       "      <td>Shawshank Redemption, The (1994)</td>\n",
       "      <td>4.964260</td>\n",
       "    </tr>\n",
       "    <tr>\n",
       "      <th>9</th>\n",
       "      <td>Wizard of Oz, The (1939)</td>\n",
       "      <td>4.812836</td>\n",
       "    </tr>\n",
       "    <tr>\n",
       "      <th>2617</th>\n",
       "      <td>Sanjuro (1962)</td>\n",
       "      <td>4.812175</td>\n",
       "    </tr>\n",
       "    <tr>\n",
       "      <th>669</th>\n",
       "      <td>Godfather, The (1972)</td>\n",
       "      <td>4.801132</td>\n",
       "    </tr>\n",
       "    <tr>\n",
       "      <th>0</th>\n",
       "      <td>One Flew Over the Cuckoo's Nest (1975)</td>\n",
       "      <td>4.795462</td>\n",
       "    </tr>\n",
       "    <tr>\n",
       "      <th>47</th>\n",
       "      <td>To Kill a Mockingbird (1962)</td>\n",
       "      <td>4.745363</td>\n",
       "    </tr>\n",
       "    <tr>\n",
       "      <th>23</th>\n",
       "      <td>Schindler's List (1993)</td>\n",
       "      <td>4.737679</td>\n",
       "    </tr>\n",
       "    <tr>\n",
       "      <th>505</th>\n",
       "      <td>Life Is Beautiful (La Vita � bella) (1997)</td>\n",
       "      <td>4.719146</td>\n",
       "    </tr>\n",
       "    <tr>\n",
       "      <th>92</th>\n",
       "      <td>Braveheart (1995)</td>\n",
       "      <td>4.699186</td>\n",
       "    </tr>\n",
       "    <tr>\n",
       "      <th>420</th>\n",
       "      <td>Casablanca (1942)</td>\n",
       "      <td>4.690033</td>\n",
       "    </tr>\n",
       "  </tbody>\n",
       "</table>\n",
       "</div>"
      ],
      "text/plain": [
       "                                           movie  pred_score\n",
       "167             Shawshank Redemption, The (1994)    4.964260\n",
       "9                       Wizard of Oz, The (1939)    4.812836\n",
       "2617                              Sanjuro (1962)    4.812175\n",
       "669                        Godfather, The (1972)    4.801132\n",
       "0         One Flew Over the Cuckoo's Nest (1975)    4.795462\n",
       "47                  To Kill a Mockingbird (1962)    4.745363\n",
       "23                       Schindler's List (1993)    4.737679\n",
       "505   Life Is Beautiful (La Vita � bella) (1997)    4.719146\n",
       "92                             Braveheart (1995)    4.699186\n",
       "420                            Casablanca (1942)    4.690033"
      ]
     },
     "execution_count": 23,
     "metadata": {},
     "output_type": "execute_result"
    }
   ],
   "source": [
    "recsys.recommend_cf(user_id=1)"
   ]
  },
  {
   "cell_type": "code",
   "execution_count": null,
   "id": "8e6ea4d4",
   "metadata": {},
   "outputs": [],
   "source": []
  },
  {
   "cell_type": "code",
   "execution_count": null,
   "id": "8d9b9d6f",
   "metadata": {},
   "outputs": [],
   "source": []
  },
  {
   "cell_type": "code",
   "execution_count": null,
   "id": "82fe3097",
   "metadata": {},
   "outputs": [],
   "source": []
  },
  {
   "cell_type": "code",
   "execution_count": null,
   "id": "68304719",
   "metadata": {},
   "outputs": [],
   "source": []
  }
 ],
 "metadata": {
  "celltoolbar": "Slideshow",
  "kernelspec": {
   "display_name": "Python [conda env:jcop_recsys]",
   "language": "python",
   "name": "conda-env-jcop_recsys-py"
  },
  "language_info": {
   "codemirror_mode": {
    "name": "ipython",
    "version": 3
   },
   "file_extension": ".py",
   "mimetype": "text/x-python",
   "name": "python",
   "nbconvert_exporter": "python",
   "pygments_lexer": "ipython3",
   "version": "3.7.6"
  }
 },
 "nbformat": 4,
 "nbformat_minor": 5
}
